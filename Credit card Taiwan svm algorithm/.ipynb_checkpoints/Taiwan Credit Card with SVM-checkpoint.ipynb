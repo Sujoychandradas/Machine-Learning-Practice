{
 "cells": [
  {
   "cell_type": "code",
   "execution_count": 7,
   "id": "f509b9b0",
   "metadata": {},
   "outputs": [],
   "source": [
    "import pandas as pd\n",
    "import matplotlib.pyplot as plt\n",
    "import numpy as np"
   ]
  },
  {
   "cell_type": "code",
   "execution_count": 9,
   "id": "51ea212b",
   "metadata": {},
   "outputs": [],
   "source": [
    "df = pd.read_csv('credit card taiwan svm algorithm.csv')"
   ]
  },
  {
   "cell_type": "code",
   "execution_count": null,
   "id": "64882b6f",
   "metadata": {},
   "outputs": [],
   "source": []
  }
 ],
 "metadata": {
  "kernelspec": {
   "display_name": "Python 3 (ipykernel)",
   "language": "python",
   "name": "python3"
  },
  "language_info": {
   "codemirror_mode": {
    "name": "ipython",
    "version": 3
   },
   "file_extension": ".py",
   "mimetype": "text/x-python",
   "name": "python",
   "nbconvert_exporter": "python",
   "pygments_lexer": "ipython3",
   "version": "3.10.9"
  }
 },
 "nbformat": 4,
 "nbformat_minor": 5
}
